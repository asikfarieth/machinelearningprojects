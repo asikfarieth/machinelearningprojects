{
 "cells": [
  {
   "cell_type": "code",
   "execution_count": 1,
   "id": "b03ab062",
   "metadata": {},
   "outputs": [
    {
     "name": "stdout",
     "output_type": "stream",
     "text": [
      "Requirement already satisfied: bitarray in c:\\users\\asikf\\anaconda3\\lib\\site-packages (2.3.0)\n",
      "Note: you may need to restart the kernel to use updated packages.\n"
     ]
    }
   ],
   "source": [
    "pip install bitarray"
   ]
  },
  {
   "cell_type": "code",
   "execution_count": 2,
   "id": "993d46f8",
   "metadata": {},
   "outputs": [
    {
     "name": "stdout",
     "output_type": "stream",
     "text": [
      "Note: you may need to restart the kernel to use updated packages.\n"
     ]
    },
    {
     "name": "stderr",
     "output_type": "stream",
     "text": [
      "ERROR: Could not find a version that satisfies the requirement struct (from versions: none)\n",
      "ERROR: No matching distribution found for struct\n"
     ]
    }
   ],
   "source": [
    "pip install struct"
   ]
  },
  {
   "cell_type": "code",
   "execution_count": 12,
   "id": "8604d2f0",
   "metadata": {},
   "outputs": [],
   "source": [
    "# Step 1: Import necessary libraries\n",
    "import numpy as np\n",
    "import wave\n",
    "import struct\n",
    "import bitarray\n",
    "import os"
   ]
  },
  {
   "cell_type": "code",
   "execution_count": 4,
   "id": "34286dec",
   "metadata": {},
   "outputs": [],
   "source": [
    "# Step 2: Define functions for Rice encoding and decoding\n",
    "def rice_encode(data, k):\n",
    "    encoded = bitarray.bitarray()\n",
    "    for value in data:\n",
    "        q, r = divmod(value, 2 ** k)\n",
    "        encoded.extend('1' * q + '0' + format(r, f'0{k}b'))\n",
    "    return encoded\n"
   ]
  },
  {
   "cell_type": "code",
   "execution_count": 5,
   "id": "5c63eaed",
   "metadata": {},
   "outputs": [],
   "source": [
    "def rice_decode(encoded, k):\n",
    "    decoded = []\n",
    "    bits = iter(encoded)\n",
    "    while True:\n",
    "        q = 0\n",
    "        try:\n",
    "            while next(bits):\n",
    "                q += 1\n",
    "            r = int(''.join([str(next(bits)) for _ in range(k)]), 2)\n",
    "            decoded.append((2 ** k) * q + r)\n",
    "        except StopIteration:\n",
    "            break\n",
    "    return np.array(decoded, dtype=np.int16)"
   ]
  },
  {
   "cell_type": "code",
   "execution_count": 6,
   "id": "0a4e01cd",
   "metadata": {},
   "outputs": [],
   "source": [
    "# Step 3: Create functions to read and write WAV files\n",
    "def read_wav_file(file_path):\n",
    "    with wave.open(file_path, 'rb') as wav_file:\n",
    "        n_channels, sampwidth, framerate, n_frames, _, _ = wav_file.getparams()\n",
    "        frames = wav_file.readframes(n_frames)\n",
    "        data = struct.unpack(f'{n_frames * n_channels}h', frames)\n",
    "        return np.array(data, dtype=np.int16)\n"
   ]
  },
  {
   "cell_type": "code",
   "execution_count": 17,
   "id": "0385bdf6",
   "metadata": {},
   "outputs": [],
   "source": [
    "def write_wav_file(filename, data, n_channels, sampwidth, framerate):\n",
    "    data = np.clip(data, -32768, 32767).astype(np.int16)  # Clip the data to the valid range\n",
    "    with wave.open(filename, 'wb') as wav_file:\n",
    "        wav_file.setparams((n_channels, sampwidth, framerate, len(data), 'NONE', 'not compressed'))\n",
    "        wav_file.writeframes(data.tobytes())\n",
    "\n"
   ]
  },
  {
   "cell_type": "code",
   "execution_count": 18,
   "id": "d00394f2",
   "metadata": {},
   "outputs": [],
   "source": [
    "# Step 4: Implement the encoding and decoding process\n",
    "def encode_and_decode(input_file, encoded_file, decoded_file, k):\n",
    "    # Read the input WAV file\n",
    "    data = read_wav_file(input_file)\n",
    "    \n",
    "    # Encode the data using Rice coding\n",
    "    encoded_data = rice_encode(data, k)\n",
    "    \n",
    "    # Save the encoded data to a file\n",
    "    with open(encoded_file, 'wb') as f:\n",
    "        encoded_data.tofile(f)\n",
    "    \n",
    "    # Load the encoded data from the file\n",
    "    with open(encoded_file, 'rb') as f:\n",
    "        loaded_encoded_data = bitarray.bitarray()\n",
    "        loaded_encoded_data.fromfile(f)\n",
    "    \n",
    "    # Decode the encoded data\n",
    "    decoded_data = rice_decode(loaded_encoded_data, k)\n",
    "    \n",
    "    # Write the decoded data to a new WAV file\n",
    "    with wave.open(input_file, 'rb') as wav_file:\n",
    "        n_channels, sampwidth, framerate, _, _, _ = wav_file.getparams()\n",
    "    write_wav_file(decoded_file, decoded_data, n_channels, sampwidth, framerate)"
   ]
  },
  {
   "cell_type": "code",
   "execution_count": 19,
   "id": "5d763b60",
   "metadata": {},
   "outputs": [],
   "source": [
    "# Step 5: Analyze the effectiveness of the Rice coding algorithm\n",
    "input_files = ['Sound1.wav', 'Sound2.wav']\n",
    "ks = [4, 2]\n"
   ]
  },
  {
   "cell_type": "code",
   "execution_count": 20,
   "id": "ace55621",
   "metadata": {},
   "outputs": [
    {
     "name": "stdout",
     "output_type": "stream",
     "text": [
      "Sound1.wav (K = 4):\n",
      "  Original size: 1002088 bytes\n",
      "  Compressed size: 1733251 bytes\n",
      "  Compression rate: -72.96%\n",
      "\n",
      "Sound1.wav (K = 2):\n",
      "  Original size: 1002088 bytes\n",
      "  Compressed size: 5904627 bytes\n",
      "  Compression rate: -489.23%\n",
      "\n",
      "Sound2.wav (K = 4):\n",
      "  Original size: 1008044 bytes\n",
      "  Compressed size: 10172734 bytes\n",
      "  Compression rate: -909.16%\n",
      "\n",
      "Sound2.wav (K = 2):\n",
      "  Original size: 1008044 bytes\n",
      "  Compressed size: 39667254 bytes\n",
      "  Compression rate: -3835.07%\n",
      "\n"
     ]
    }
   ],
   "source": [
    "for input_file in input_files:\n",
    "    original_size = os.path.getsize(input_file)\n",
    "    for k in ks:\n",
    "        encoded_file = input_file.replace('.wav', f'_Enc_K{k}.ex2')\n",
    "        decoded_file = input_file.replace('.wav', f'_Enc_Dec_K{k}.wav')\n",
    "                # Encode and decode the input file\n",
    "        encode_and_decode(input_file, encoded_file, decoded_file, k)\n",
    "        \n",
    "        # Calculate the compressed file size and compression rate\n",
    "        compressed_size = os.path.getsize(encoded_file)\n",
    "        compression_rate = (original_size - compressed_size) / original_size * 100\n",
    "        \n",
    "        # Print the results\n",
    "        print(f'{input_file} (K = {k}):')\n",
    "        print(f'  Original size: {original_size} bytes')\n",
    "        print(f'  Compressed size: {compressed_size} bytes')\n",
    "        print(f'  Compression rate: {compression_rate:.2f}%')\n",
    "        print()\n"
   ]
  },
  {
   "cell_type": "code",
   "execution_count": 21,
   "id": "95e1925f",
   "metadata": {},
   "outputs": [],
   "source": [
    "def delta_encode(data):\n",
    "    delta_encoded = np.diff(data, prepend=data[0])\n",
    "    return delta_encoded\n",
    "\n",
    "def delta_decode(delta_encoded):\n",
    "    decoded = np.cumsum(delta_encoded)\n",
    "    return decoded\n"
   ]
  },
  {
   "cell_type": "code",
   "execution_count": 22,
   "id": "e6ba7b65",
   "metadata": {},
   "outputs": [],
   "source": [
    "def encode_and_decode_with_delta(input_file, encoded_file, decoded_file, k):\n",
    "    # Read the input WAV file\n",
    "    data = read_wav_file(input_file)\n",
    "    \n",
    "    # Apply delta encoding\n",
    "    delta_encoded_data = delta_encode(data)\n",
    "    \n",
    "    # Encode the data using Rice coding\n",
    "    encoded_data = rice_encode(delta_encoded_data, k)\n",
    "    \n",
    "    # Save the encoded data to a file\n",
    "    with open(encoded_file, 'wb') as f:\n",
    "        encoded_data.tofile(f)\n",
    "    \n",
    "    # Load the encoded data from the file\n",
    "    with open(encoded_file, 'rb') as f:\n",
    "        loaded_encoded_data = bitarray.bitarray()\n",
    "        loaded_encoded_data.fromfile(f)\n",
    "    \n",
    "    # Decode the encoded data using Rice coding\n",
    "    decoded_delta_data = rice_decode(loaded_encoded_data, k)\n",
    "    \n",
    "    # Apply delta decoding\n",
    "    decoded_data = delta_decode(decoded_delta_data)\n",
    "    \n",
    "    # Write the decoded data to a new WAV file\n",
    "    with wave.open(input_file, 'rb') as wav_file:\n",
    "        n_channels, sampwidth, framerate, _, _, _ = wav_file.getparams()\n",
    "    write_wav_file(decoded_file, decoded_data, n_channels, sampwidth, framerate)\n"
   ]
  },
  {
   "cell_type": "code",
   "execution_count": 23,
   "id": "4dc3a41e",
   "metadata": {},
   "outputs": [
    {
     "name": "stdout",
     "output_type": "stream",
     "text": [
      "Sound1.wav with Delta coding (K = 4):\n",
      "  Original size: 1002088 bytes\n",
      "  Compressed size: 445108 bytes\n",
      "  Compression rate: 55.58%\n",
      "\n",
      "Sound1.wav with Delta coding (K = 2):\n",
      "  Original size: 1002088 bytes\n",
      "  Compressed size: 744827 bytes\n",
      "  Compression rate: 25.67%\n",
      "\n",
      "Sound2.wav with Delta coding (K = 4):\n",
      "  Original size: 1008044 bytes\n",
      "  Compressed size: 14332986 bytes\n",
      "  Compression rate: -1321.86%\n",
      "\n",
      "Sound2.wav with Delta coding (K = 2):\n",
      "  Original size: 1008044 bytes\n",
      "  Compressed size: 56308140 bytes\n",
      "  Compression rate: -5485.88%\n",
      "\n"
     ]
    }
   ],
   "source": [
    "for input_file in input_files:\n",
    "    original_size = os.path.getsize(input_file)\n",
    "    for k in ks:\n",
    "        encoded_file = input_file.replace('.wav', f'_Enc_K{k}_Delta.ex2')\n",
    "        decoded_file = input_file.replace('.wav', f'_Enc_Dec_K{k}_Delta.wav')\n",
    "        \n",
    "        # Encode and decode the input file using delta coding and Rice coding\n",
    "        encode_and_decode_with_delta(input_file, encoded_file, decoded_file, k)\n",
    "        \n",
    "        # Calculate the compressed file size and compression rate\n",
    "        compressed_size = os.path.getsize(encoded_file)\n",
    "        compression_rate = (original_size - compressed_size) / original_size * 100\n",
    "        \n",
    "        # Print the results\n",
    "        print(f'{input_file} with Delta coding (K = {k}):')\n",
    "        print(f'  Original size: {original_size} bytes')\n",
    "        print(f'  Compressed size: {compressed_size} bytes')\n",
    "        print(f'  Compression rate: {compression_rate:.2f}%')\n",
    "        print()\n"
   ]
  },
  {
   "cell_type": "code",
   "execution_count": null,
   "id": "84a92c1e",
   "metadata": {},
   "outputs": [],
   "source": []
  }
 ],
 "metadata": {
  "kernelspec": {
   "display_name": "Python 3 (ipykernel)",
   "language": "python",
   "name": "python3"
  },
  "language_info": {
   "codemirror_mode": {
    "name": "ipython",
    "version": 3
   },
   "file_extension": ".py",
   "mimetype": "text/x-python",
   "name": "python",
   "nbconvert_exporter": "python",
   "pygments_lexer": "ipython3",
   "version": "3.9.7"
  }
 },
 "nbformat": 4,
 "nbformat_minor": 5
}
